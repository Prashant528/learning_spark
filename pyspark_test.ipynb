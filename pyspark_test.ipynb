{
 "cells": [
  {
   "cell_type": "code",
   "execution_count": 1,
   "id": "9f4d4b16-386f-445a-a30f-830de2ad0b49",
   "metadata": {},
   "outputs": [
    {
     "name": "stderr",
     "output_type": "stream",
     "text": [
      "Setting default log level to \"WARN\".\n",
      "To adjust logging level use sc.setLogLevel(newLevel). For SparkR, use setLogLevel(newLevel).\n",
      "24/11/19 21:03:16 WARN NativeCodeLoader: Unable to load native-hadoop library for your platform... using builtin-java classes where applicable\n"
     ]
    },
    {
     "name": "stdout",
     "output_type": "stream",
     "text": [
      "+----+---+----------------+------------+------------------+-----------------+------------------+------+-----+-------------+------+\n",
      "|  id|age|          sector|         edu|          marriage|       occupation|              race|   sex|hours|      country|target|\n",
      "+----+---+----------------+------------+------------------+-----------------+------------------+------+-----+-------------+------+\n",
      "|6000| 40|         Private|   Doctorate|Married-civ-spouse|   Prof-specialty|             White|  Male|   60|United-States|  >50K|\n",
      "|6001| 24|         Private|   Bachelors|Married-civ-spouse|     Tech-support|             White|  Male|   50|United-States| <=50K|\n",
      "|6002| 29|         Private|Some-college|          Divorced|     Tech-support|             White|  Male|   58|United-States| <=50K|\n",
      "|6003| 49|       Local-gov|     HS-grad|Married-civ-spouse|  Protective-serv|             White|  Male|   40|United-States| <=50K|\n",
      "|6004| 31|       Local-gov|     HS-grad|     Never-married|     Adm-clerical|             White|Female|   40|United-States| <=50K|\n",
      "|6005| 39|         Private|Some-college|          Divorced|     Craft-repair|             White|  Male|   40|United-States| <=50K|\n",
      "|6006| 47|       Local-gov|Some-college|          Divorced|     Adm-clerical|             White|Female|   38|       Mexico| <=50K|\n",
      "|6007| 51|         Private|Some-college|Married-civ-spouse|            Sales|             White|  Male|   40|United-States|  >50K|\n",
      "|6008| 47|         Private|Some-college|Married-civ-spouse|     Tech-support|             White|  Male|   45|United-States|  >50K|\n",
      "|6009| 54|    Self-emp-inc|     7th-8th|Married-civ-spouse|Machine-op-inspct|             White|  Male|   40|United-States| <=50K|\n",
      "|6010| 40|       State-gov|Some-college|     Never-married|     Adm-clerical|             White|Female|   38|United-States| <=50K|\n",
      "|6011| 50|         Private|     7th-8th|          Divorced|     Craft-repair|             White|  Male|   40|United-States| <=50K|\n",
      "|6012| 22|         Private|   Bachelors|     Never-married|   Prof-specialty|             White|Female|   15|      Germany| <=50K|\n",
      "|6013| 21|         Private|Some-college|     Never-married|    Other-service|Asian-Pac-Islander|Female|   25|United-States| <=50K|\n",
      "|6014| 35|         Private|     HS-grad|          Divorced| Transport-moving|             White|  Male|   45|United-States| <=50K|\n",
      "|6015| 33|         Private|     HS-grad|     Never-married|  Farming-fishing|             White|  Male|   20|United-States| <=50K|\n",
      "|6016| 56|Self-emp-not-inc|Some-college|Married-civ-spouse|            Sales|             White|  Male|   45|United-States| <=50K|\n",
      "|6017| 29|         Private|     HS-grad|         Separated|Machine-op-inspct|             White|  Male|   40|United-States| <=50K|\n",
      "|6018| 32|         Private|Some-college|Married-civ-spouse|  Exec-managerial|             White|  Male|   50|United-States|  >50K|\n",
      "|6019| 47|       Local-gov|     Masters|Married-civ-spouse|   Prof-specialty|             White|  Male|   40|United-States|  >50K|\n",
      "+----+---+----------------+------------+------------------+-----------------+------------------+------+-----+-------------+------+\n",
      "only showing top 20 rows\n",
      "\n"
     ]
    }
   ],
   "source": [
    "import pyspark\n",
    "from pyspark.sql import SparkSession\n",
    "\n",
    "spark = SparkSession.builder \\\n",
    "    .master(\"local[*]\") \\\n",
    "    .appName('test') \\\n",
    "    .getOrCreate()\n",
    "\n",
    "df = spark.read \\\n",
    "    .option(\"header\", \"true\") \\\n",
    "    .csv('submission_part_4_1.csv')\n",
    "\n",
    "df.show()"
   ]
  }
 ],
 "metadata": {
  "kernelspec": {
   "display_name": "Python 3 (ipykernel)",
   "language": "python",
   "name": "python3"
  },
  "language_info": {
   "codemirror_mode": {
    "name": "ipython",
    "version": 3
   },
   "file_extension": ".py",
   "mimetype": "text/x-python",
   "name": "python",
   "nbconvert_exporter": "python",
   "pygments_lexer": "ipython3",
   "version": "3.12.7"
  }
 },
 "nbformat": 4,
 "nbformat_minor": 5
}
